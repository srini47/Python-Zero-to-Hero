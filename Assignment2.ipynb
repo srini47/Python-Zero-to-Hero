{
  "nbformat": 4,
  "nbformat_minor": 0,
  "metadata": {
    "colab": {
      "name": "PythonZtH2.ipynb",
      "provenance": []
    },
    "kernelspec": {
      "name": "python3",
      "display_name": "Python 3"
    },
    "language_info": {
      "name": "python"
    }
  },
  "cells": [
    {
      "cell_type": "code",
      "metadata": {
        "colab": {
          "base_uri": "https://localhost:8080/"
        },
        "id": "_qWIZmBDt-Yw",
        "outputId": "8d31eb7d-5b66-4da0-ec6a-55c4c0bfc151"
      },
      "source": [
        "for number in range(2,51):\n",
        "  for i in range(2,number):\n",
        "    if (number%i)==0:break\n",
        "  else:print(number)"
      ],
      "execution_count": 25,
      "outputs": [
        {
          "output_type": "stream",
          "name": "stdout",
          "text": [
            "2\n",
            "3\n",
            "5\n",
            "7\n",
            "11\n",
            "13\n",
            "17\n",
            "19\n",
            "23\n",
            "29\n",
            "31\n",
            "37\n",
            "41\n",
            "43\n",
            "47\n"
          ]
        }
      ]
    },
    {
      "cell_type": "code",
      "metadata": {
        "colab": {
          "base_uri": "https://localhost:8080/"
        },
        "id": "al_LCKOYu4Zi",
        "outputId": "083a95af-ea17-4945-ca31-9f9689f9c102"
      },
      "source": [
        "num = int(input(\"Enter any number : \"))\n",
        "if num > 1:\n",
        "    for i in range(2, num):\n",
        "        if (num % i) == 0:\n",
        "            print(num, \"is NOT a prime number\")\n",
        "            break\n",
        "    else:\n",
        "        print(num, \"is a PRIME number\")"
      ],
      "execution_count": 26,
      "outputs": [
        {
          "output_type": "stream",
          "name": "stdout",
          "text": [
            "Enter any number : 5\n",
            "5 is a PRIME number\n"
          ]
        }
      ]
    }
  ]
}