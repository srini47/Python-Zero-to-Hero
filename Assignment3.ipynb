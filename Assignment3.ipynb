{
  "nbformat": 4,
  "nbformat_minor": 0,
  "metadata": {
    "colab": {
      "name": "PythonZtH3.ipynb",
      "provenance": []
    },
    "kernelspec": {
      "name": "python3",
      "display_name": "Python 3"
    },
    "language_info": {
      "name": "python"
    }
  },
  "cells": [
    {
      "cell_type": "code",
      "metadata": {
        "colab": {
          "base_uri": "https://localhost:8080/"
        },
        "id": "ukVIjEytM4FV",
        "outputId": "296a16c9-6d0f-4fd7-acb6-5f232caa006a"
      },
      "source": [
        "def fun(a, b=0, *args, **kwargs):\n",
        "  print(a, b, args, kwargs)\n",
        "\n",
        "fun(10, 20, 1, 2, 3, 4, name=\"letsupgrade\", program=\"python\")"
      ],
      "execution_count": 1,
      "outputs": [
        {
          "output_type": "stream",
          "name": "stdout",
          "text": [
            "10 20 (1, 2, 3, 4) {'name': 'letsupgrade', 'program': 'python'}\n"
          ]
        }
      ]
    }
  ]
}